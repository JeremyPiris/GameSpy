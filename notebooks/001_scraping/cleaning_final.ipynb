{
 "cells": [
  {
   "cell_type": "code",
   "execution_count": 1,
   "id": "148a404a",
   "metadata": {},
   "outputs": [],
   "source": [
    "import pandas as pd\n",
    "import numpy as np\n",
    "import datetime"
   ]
  },
  {
   "cell_type": "code",
   "execution_count": 2,
   "id": "a2ab71e1",
   "metadata": {},
   "outputs": [],
   "source": [
    "df = pd.read_csv('../data_col/FinalDataSet.csv')"
   ]
  },
  {
   "cell_type": "markdown",
   "id": "4257bb3b",
   "metadata": {},
   "source": [
    "## Cleaning ['DateSortie', 'Review', 'Score']"
   ]
  },
  {
   "cell_type": "code",
   "execution_count": 4,
   "id": "57f8156f",
   "metadata": {},
   "outputs": [],
   "source": [
    "# ['DateSortie'] en format datetime\n",
    "df['DateSortie'] = df['DateSortie'].apply(lambda x: str(x)[-7:])\n",
    "df['DateSortie'] = pd.to_datetime(df['DateSortie'])"
   ]
  },
  {
   "cell_type": "code",
   "execution_count": 5,
   "id": "2744c6db",
   "metadata": {},
   "outputs": [],
   "source": [
    "# Uniformisation des Review en format float\n",
    "df['Review'] = df['Review'].apply(lambda x: str(x).strip(' avis'))\n",
    "df['Review'] = df['Review'].apply(lambda x: str(x).replace(' ', ''))\n",
    "df['Review'] = df['Review'].astype('float')"
   ]
  },
  {
   "cell_type": "code",
   "execution_count": 6,
   "id": "c9721173",
   "metadata": {},
   "outputs": [],
   "source": [
    "# ['Score'] en format float\n",
    "df['Score'] = df['Score'].replace('-', np.nan)\n",
    "df['Score'] = df['Score'].astype('float')"
   ]
  },
  {
   "cell_type": "markdown",
   "id": "d649408f",
   "metadata": {},
   "source": [
    "## Remplacement des 0 par NaN"
   ]
  },
  {
   "cell_type": "code",
   "execution_count": 16,
   "id": "1859b99b",
   "metadata": {},
   "outputs": [],
   "source": [
    "df['Score'] = df['Score'].replace(0, np.nan)\n",
    "df['Rate'] = df['Rate'].replace(0, np.nan)\n",
    "df['Review'] = df['Review'].replace(0, np.nan)"
   ]
  },
  {
   "cell_type": "code",
   "execution_count": 18,
   "id": "55e31fb9",
   "metadata": {},
   "outputs": [
    {
     "name": "stdout",
     "output_type": "stream",
     "text": [
      "<class 'pandas.core.frame.DataFrame'>\n",
      "RangeIndex: 16615 entries, 0 to 16614\n",
      "Data columns (total 18 columns):\n",
      " #   Column           Non-Null Count  Dtype         \n",
      "---  ------           --------------  -----         \n",
      " 0   Unnamed: 0       16615 non-null  int64         \n",
      " 1   Name             16615 non-null  object        \n",
      " 2   Platform         16615 non-null  object        \n",
      " 3   Year             16395 non-null  float64       \n",
      " 4   Genre            16615 non-null  object        \n",
      " 5   Publisher        16556 non-null  object        \n",
      " 6   DateSortie       10782 non-null  datetime64[ns]\n",
      " 7   Studio           13974 non-null  object        \n",
      " 8   Score            9833 non-null   float64       \n",
      " 9   Rate             10853 non-null  float64       \n",
      " 10  Review           9622 non-null   float64       \n",
      " 11  NA_Sales         16615 non-null  float64       \n",
      " 12  EU_Sales         16615 non-null  float64       \n",
      " 13  JP_Sales         16615 non-null  float64       \n",
      " 14  Other_Sales      16615 non-null  float64       \n",
      " 15  Global_Sales     16615 non-null  float64       \n",
      " 16  GK_licence       10906 non-null  object        \n",
      " 17  GK_distributeur  2421 non-null   object        \n",
      "dtypes: datetime64[ns](1), float64(9), int64(1), object(7)\n",
      "memory usage: 2.3+ MB\n"
     ]
    }
   ],
   "source": [
    "df.info()"
   ]
  }
 ],
 "metadata": {
  "kernelspec": {
   "display_name": "Python 3",
   "language": "python",
   "name": "python3"
  },
  "language_info": {
   "codemirror_mode": {
    "name": "ipython",
    "version": 3
   },
   "file_extension": ".py",
   "mimetype": "text/x-python",
   "name": "python",
   "nbconvert_exporter": "python",
   "pygments_lexer": "ipython3",
   "version": "3.8.8"
  }
 },
 "nbformat": 4,
 "nbformat_minor": 5
}
